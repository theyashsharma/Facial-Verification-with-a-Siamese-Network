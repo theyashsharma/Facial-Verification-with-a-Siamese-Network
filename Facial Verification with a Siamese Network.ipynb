{
 "cells": [
  {
   "cell_type": "markdown",
   "id": "c4c35858",
   "metadata": {},
   "source": [
    "## 1) Setup"
   ]
  },
  {
   "cell_type": "markdown",
   "id": "60410347",
   "metadata": {},
   "source": [
    "### Importing Dependencies"
   ]
  },
  {
   "cell_type": "code",
   "execution_count": 1,
   "id": "e216004d",
   "metadata": {},
   "outputs": [],
   "source": [
    "import cv2\n",
    "import os\n",
    "import random\n",
    "import numpy as np\n",
    "from matplotlib import pyplot as plt"
   ]
  },
  {
   "cell_type": "code",
   "execution_count": 2,
   "id": "29aded17",
   "metadata": {},
   "outputs": [],
   "source": [
    "import tensorflow as tf\n",
    "from tensorflow.keras.models import Model\n",
    "from tensorflow.keras.layers import Layer, Conv2D, Dense, MaxPooling2D, Input, Flatten"
   ]
  },
  {
   "cell_type": "markdown",
   "id": "9ebc133f",
   "metadata": {},
   "source": [
    "### Setting up GPU Growth"
   ]
  },
  {
   "cell_type": "code",
   "execution_count": 3,
   "id": "aa087552",
   "metadata": {},
   "outputs": [],
   "source": [
    "#to avoid out of memory errors by setting GPU memory consumption growth\n",
    "gpus = tf.config.experimental.list_physical_devices('GPU')\n",
    "for gpu in gpus:\n",
    "    tf.config.experimental.set_memory_growth(gpu, True)"
   ]
  },
  {
   "cell_type": "markdown",
   "id": "de3dc64a",
   "metadata": {},
   "source": [
    "### Creating Folder Structures"
   ]
  },
  {
   "cell_type": "code",
   "execution_count": 4,
   "id": "f6dc8c21",
   "metadata": {},
   "outputs": [],
   "source": [
    "#Setting up paths\n",
    "POS_PATH = os.path.join('data', 'positive')\n",
    "NEG_PATH = os.path.join('data', 'negative')\n",
    "ANC_PATH = os.path.join('data', 'anchor')"
   ]
  },
  {
   "cell_type": "code",
   "execution_count": 5,
   "id": "ec1ddfd8",
   "metadata": {},
   "outputs": [],
   "source": [
    "#Making the directories\n",
    "os.makedirs(POS_PATH)\n",
    "os.makedirs(NEG_PATH)\n",
    "os.makedirs(ANC_PATH)"
   ]
  },
  {
   "cell_type": "markdown",
   "id": "a1533651",
   "metadata": {},
   "source": [
    "## 2 ) Collecting positives and anchors"
   ]
  },
  {
   "cell_type": "markdown",
   "id": "11bba823",
   "metadata": {},
   "source": [
    "### Untaring Labelled Faces in the Wild Dataset"
   ]
  },
  {
   "cell_type": "code",
   "execution_count": 6,
   "id": "de122457",
   "metadata": {},
   "outputs": [],
   "source": [
    "#http://vis-www.cs.umass.edu/lfw/lfw.tgz"
   ]
  },
  {
   "cell_type": "code",
   "execution_count": 8,
   "id": "685da25a",
   "metadata": {},
   "outputs": [],
   "source": [
    "#Uncompressing Tar GZ labelled Faces in the Wild Dataset\n",
    "!tar -xf lfw.tgz"
   ]
  },
  {
   "cell_type": "code",
   "execution_count": 11,
   "id": "10b6d294",
   "metadata": {},
   "outputs": [],
   "source": [
    "# Moving LFW Images to the following repository data/negative\n",
    "for directory in os.listdir('lfw'):\n",
    "    for file in os.listdir(os.path.join('lfw', directory)):\n",
    "        EX_PATH = os.path.join('lfw', directory, file)\n",
    "        NEW_PATH = os.path.join(NEG_PATH, file)\n",
    "        os.replace(EX_PATH, NEW_PATH)"
   ]
  },
  {
   "cell_type": "markdown",
   "id": "dde3897b",
   "metadata": {},
   "source": [
    "### Collecting Positive and Anchor Classes"
   ]
  },
  {
   "cell_type": "code",
   "execution_count": 12,
   "id": "49b4d419",
   "metadata": {},
   "outputs": [],
   "source": [
    "#importing uuid library to generate unique image names\n",
    "import uuid"
   ]
  },
  {
   "cell_type": "code",
   "execution_count": 16,
   "id": "97f89ab2",
   "metadata": {},
   "outputs": [],
   "source": [
    "#Establishing a connection to the webcam\n",
    "cap = cv2.VideoCapture(0)\n",
    "while cap.isOpened():\n",
    "    ret, frame = cap.read()\n",
    "    \n",
    "    #cutting down frame to 250 x 250 px\n",
    "    frameme = frame[120:120+250, 200:200+250, :]\n",
    "    \n",
    "    #collecting anchors\n",
    "    if cv2.waitKey(1) & 0XFF == ord('a'):\n",
    "        #creating the unique file path\n",
    "        imgname = os.path.join(ANC_PATH, '{}.jpg'.format(uuid.uuid1()))\n",
    "        #Writing out positive image\n",
    "        cv2.imwrite(imgname, frame)\n",
    "        \n",
    "    #collecting positives\n",
    "    if cv2.waitKey(1) & 0XFF == ord('p'):\n",
    "        #creating the unique file path\n",
    "        imgname = os.path.join(POS_PATH, '{}.jpg'.format(uuid.uuid1()))\n",
    "        #Writing out positive image\n",
    "        cv2.imwrite(imgname, frame)\n",
    "        \n",
    "    #showing image back to screen\n",
    "    cv2.imshow('Image Collection', frame)\n",
    "    \n",
    "    #Breaking Gracefully\n",
    "    if cv2.waitKey(1) & 0xFF == ord('q'):\n",
    "        break\n",
    "        \n",
    "# Releasing the webcam\n",
    "cap.release()\n",
    "# Closing the image show frame\n",
    "cv2.destroyAllWindows()"
   ]
  },
  {
   "cell_type": "code",
   "execution_count": null,
   "id": "e5c24920",
   "metadata": {},
   "outputs": [],
   "source": []
  },
  {
   "cell_type": "code",
   "execution_count": null,
   "id": "eca84f9a",
   "metadata": {},
   "outputs": [],
   "source": []
  },
  {
   "cell_type": "code",
   "execution_count": null,
   "id": "cdc6de0a",
   "metadata": {},
   "outputs": [],
   "source": []
  },
  {
   "cell_type": "code",
   "execution_count": null,
   "id": "4b1a5a85",
   "metadata": {},
   "outputs": [],
   "source": []
  },
  {
   "cell_type": "code",
   "execution_count": null,
   "id": "e7803203",
   "metadata": {},
   "outputs": [],
   "source": []
  }
 ],
 "metadata": {
  "kernelspec": {
   "display_name": "Python 3",
   "language": "python",
   "name": "python3"
  },
  "language_info": {
   "codemirror_mode": {
    "name": "ipython",
    "version": 3
   },
   "file_extension": ".py",
   "mimetype": "text/x-python",
   "name": "python",
   "nbconvert_exporter": "python",
   "pygments_lexer": "ipython3",
   "version": "3.8.8"
  }
 },
 "nbformat": 4,
 "nbformat_minor": 5
}
